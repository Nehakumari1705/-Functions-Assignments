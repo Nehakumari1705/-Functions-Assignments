{
 "cells": [
  {
   "cell_type": "markdown",
   "id": "6ac5414d",
   "metadata": {},
   "source": [
    "### Q1. Which keyword is used to create a function? Create a function to return a list of odd numbers in the range of 1 to 25.\n"
   ]
  },
  {
   "cell_type": "markdown",
   "id": "cf3354f1",
   "metadata": {},
   "source": [
    "#### Ans- The keyword used to create a function in Python is 'def'.\n",
    "\n",
    "#### Here is an example function that returns a list of odd numbers in the range of 1 to 25:"
   ]
  },
  {
   "cell_type": "code",
   "execution_count": 1,
   "id": "cc6b6e5c",
   "metadata": {},
   "outputs": [],
   "source": [
    "def get_good_numbers():\n",
    "    odd_numbers = []\n",
    "    for num in range (1,26):\n",
    "        if num % 2 != 0:\n",
    "            odd_numbers.append(num)\n",
    "    return odd_numbers"
   ]
  },
  {
   "cell_type": "code",
   "execution_count": 2,
   "id": "bbbd806c",
   "metadata": {},
   "outputs": [
    {
     "data": {
      "text/plain": [
       "[1, 3, 5, 7, 9, 11, 13, 15, 17, 19, 21, 23, 25]"
      ]
     },
     "execution_count": 2,
     "metadata": {},
     "output_type": "execute_result"
    }
   ],
   "source": [
    "get_good_numbers()"
   ]
  },
  {
   "cell_type": "markdown",
   "id": "e151271a",
   "metadata": {},
   "source": [
    "### Q2. Why * args and **kwargs is used in some functions? Create a function each for *args and **kwargs to demonstrate their use.\n"
   ]
  },
  {
   "cell_type": "markdown",
   "id": "1995a04d",
   "metadata": {},
   "source": [
    "#### Ans- ' *args' and '**kwargs' are used in Python to allow a function to accept an arbitrary number of possitional and keywords arguments respectively. \n",
    "\n",
    "#### The '*args' syntax allows a function to accept any number of positional arguments . These arguments are passed in as tuple,which the function can then iterate over or access by index.\n",
    "\n",
    "#### Here's an example function that uses '*args':"
   ]
  },
  {
   "cell_type": "code",
   "execution_count": 8,
   "id": "d5f26b18",
   "metadata": {},
   "outputs": [],
   "source": [
    "def sum_numbers(*args):\n",
    "    total = 0\n",
    "    for num in args:\n",
    "        total += num\n",
    "    return total"
   ]
  },
  {
   "cell_type": "code",
   "execution_count": 13,
   "id": "637385f5",
   "metadata": {},
   "outputs": [
    {
     "name": "stdout",
     "output_type": "stream",
     "text": [
      "10\n"
     ]
    }
   ],
   "source": [
    "print(sum_numbers(1, 2, 3, 4))"
   ]
  },
  {
   "cell_type": "code",
   "execution_count": 14,
   "id": "3a7b7405",
   "metadata": {},
   "outputs": [
    {
     "name": "stdout",
     "output_type": "stream",
     "text": [
      "30\n"
     ]
    }
   ],
   "source": [
    "print(sum_numbers(5, 10, 15))"
   ]
  },
  {
   "cell_type": "markdown",
   "id": "6bb0fcf5",
   "metadata": {},
   "source": [
    "#### In this function,'*args' allows a function to accept any number of arguments, which are then added together and returned as the total."
   ]
  },
  {
   "cell_type": "markdown",
   "id": "f4a08f13",
   "metadata": {},
   "source": [
    "### The '**kwargs' syntax allows a function  to accept any number of keyword arguments. These arguments are passed in as a dictionary,with the keys as the argument names and the values as the argument values.\n",
    "\n",
    "### Here's an example function that uses '**kwargs':"
   ]
  },
  {
   "cell_type": "code",
   "execution_count": 9,
   "id": "993212af",
   "metadata": {},
   "outputs": [],
   "source": [
    "def print_person_info(**kwargs):\n",
    "    for key, value in kwargs.items():\n",
    "        print(f\"{key}: {value}\")"
   ]
  },
  {
   "cell_type": "code",
   "execution_count": 16,
   "id": "228faf38",
   "metadata": {},
   "outputs": [
    {
     "name": "stdout",
     "output_type": "stream",
     "text": [
      "name: Alice\n",
      "age: 25\n",
      "city: New York\n"
     ]
    }
   ],
   "source": [
    "print_person_info(name=\"Alice\", age=25, city=\"New York\")\n"
   ]
  },
  {
   "cell_type": "markdown",
   "id": "bedf4b7e",
   "metadata": {},
   "source": [
    "### Q3. What is an iterator in python? Name the method used to initialise the iterator object and the method used for iteration. Use these methods to print the first five elements of the given list [2, 4, 6, 8, 10, 12, 14, 16,18,20].\n"
   ]
  },
  {
   "cell_type": "markdown",
   "id": "5007f877",
   "metadata": {},
   "source": [
    "#### Ans- An iterator is an object that enables traversal or iteration through a sequence of elements,one at a time. The sequence of elements can be a list,tuple,dictionary,set,or any other iterable object. \n",
    "#### Technically, in Python, an iterator is an object which implements the iterator protocol, which consist of the methods __iter__() and __next__() .\n",
    "\n",
    "#### The iterator object is initialized using the iter() method. It uses the next() method for iteration.\n",
    "\n",
    "__iter__(): The iter() method is called for the initialization of an iterator. This returns an iterator object\n",
    "__next__(): The next method returns the next value for the iterable. When we use a for loop to traverse any iterable object, internally it uses the iter() method to get an iterator object, which further uses the next() method to iterate over. This method raises a StopIteration to signal the end of the iteration.\n",
    "\n",
    "Here's how you can print the first five elements of the given list using an iterator:"
   ]
  },
  {
   "cell_type": "code",
   "execution_count": 7,
   "id": "5ebc249b",
   "metadata": {},
   "outputs": [
    {
     "name": "stdout",
     "output_type": "stream",
     "text": [
      "2\n",
      "4\n",
      "6\n",
      "8\n",
      "10\n"
     ]
    }
   ],
   "source": [
    "my_list = [2,4,6,8,10,12,14,16,18,20]\n",
    "my_iterator = iter(my_list)\n",
    "for i in range(5):\n",
    "    print(next(my_iterator))"
   ]
  },
  {
   "cell_type": "markdown",
   "id": "04461221",
   "metadata": {},
   "source": [
    "### Q4. What is a generator function in python? Why yield keyword is used? Give an example of a generator function.\n"
   ]
  },
  {
   "cell_type": "markdown",
   "id": "261ce743",
   "metadata": {},
   "source": [
    "#### Ans- In Python, generator functions are those functions that, instead of returning a single value, return an iterable generator object. You can access or read the values returned from the generator function stored inside a generator object one-by-one using a simple loop or using next() or list() methods.\n",
    "\n",
    "It use the 'yield' keyword to specify the value to be generated and to temporarily pause the function's execuation."
   ]
  },
  {
   "cell_type": "markdown",
   "id": "0c9ef35b",
   "metadata": {},
   "source": [
    "Here's an example of a generator function in Python that generates an infinite sequence of Fibonacci numbers :"
   ]
  },
  {
   "cell_type": "code",
   "execution_count": 8,
   "id": "16e71ef6",
   "metadata": {},
   "outputs": [],
   "source": [
    "def fibonacci():\n",
    "    a,b = 0,1\n",
    "    while True:\n",
    "        yield a\n",
    "        a,b = b,a+b"
   ]
  },
  {
   "cell_type": "code",
   "execution_count": 9,
   "id": "ae3b33ac",
   "metadata": {},
   "outputs": [
    {
     "name": "stdout",
     "output_type": "stream",
     "text": [
      "0\n",
      "1\n",
      "1\n",
      "2\n",
      "3\n",
      "5\n",
      "8\n",
      "13\n",
      "21\n",
      "34\n"
     ]
    }
   ],
   "source": [
    "fib = fibonacci()\n",
    "for i in range(10):\n",
    "    print(next(fib))"
   ]
  },
  {
   "cell_type": "markdown",
   "id": "bc1205c8",
   "metadata": {},
   "source": [
    "### Q5. Create a generator function for prime numbers less than 1000. Use the next() method to print the first 20 prime numbers."
   ]
  },
  {
   "cell_type": "markdown",
   "id": "27c4e718",
   "metadata": {},
   "source": [
    "#### Ans- Here's an example of a generator function that generates prime numbers less than 1000 in Python:"
   ]
  },
  {
   "cell_type": "code",
   "execution_count": 9,
   "id": "87ca513d",
   "metadata": {},
   "outputs": [],
   "source": [
    "def generate_primes():\n",
    "    primes = []\n",
    "    for num in range(2, 1000):\n",
    "        is_prime = True\n",
    "        for prime in primes:\n",
    "            if num % prime == 0:\n",
    "                is_prime = False\n",
    "                break\n",
    "        if is_prime:\n",
    "            primes.append(num)\n",
    "            yield num\n",
    "\n"
   ]
  },
  {
   "cell_type": "code",
   "execution_count": 10,
   "id": "b6ae051d",
   "metadata": {},
   "outputs": [
    {
     "name": "stdout",
     "output_type": "stream",
     "text": [
      "2\n",
      "3\n",
      "5\n",
      "7\n",
      "11\n",
      "13\n",
      "17\n",
      "19\n",
      "23\n",
      "29\n",
      "31\n",
      "37\n",
      "41\n",
      "43\n",
      "47\n",
      "53\n",
      "59\n",
      "61\n",
      "67\n",
      "71\n"
     ]
    }
   ],
   "source": [
    "prime_generator = generate_primes()\n",
    "for i in range(20):\n",
    "    print(next(prime_generator))"
   ]
  },
  {
   "cell_type": "code",
   "execution_count": null,
   "id": "e2b7dd61",
   "metadata": {},
   "outputs": [],
   "source": []
  }
 ],
 "metadata": {
  "kernelspec": {
   "display_name": "Python 3 (ipykernel)",
   "language": "python",
   "name": "python3"
  },
  "language_info": {
   "codemirror_mode": {
    "name": "ipython",
    "version": 3
   },
   "file_extension": ".py",
   "mimetype": "text/x-python",
   "name": "python",
   "nbconvert_exporter": "python",
   "pygments_lexer": "ipython3",
   "version": "3.9.13"
  }
 },
 "nbformat": 4,
 "nbformat_minor": 5
}
